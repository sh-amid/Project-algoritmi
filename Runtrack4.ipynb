{
 "cells": [
  {
   "cell_type": "markdown",
   "id": "cb41ed7e",
   "metadata": {},
   "source": [
    "JOB 0"
   ]
  },
  {
   "cell_type": "code",
   "execution_count": 15,
   "id": "a51aad24",
   "metadata": {},
   "outputs": [
    {
     "name": "stdout",
     "output_type": "stream",
     "text": [
      "Enter your number :0\n",
      "0 factorial =  1\n"
     ]
    }
   ],
   "source": [
    "k = int(input('Enter your number :'))\n",
    "\n",
    "def factorial(n):\n",
    "    if (n == 0):\n",
    "        return 1\n",
    "    else:\n",
    "        return n*factorial(n-1)\n",
    "    \n",
    "print(k, 'factorial = ' ,factorial(k))"
   ]
  },
  {
   "cell_type": "markdown",
   "id": "7381ead8",
   "metadata": {},
   "source": [
    "JOB 01"
   ]
  },
  {
   "cell_type": "code",
   "execution_count": 22,
   "id": "5c91b64e",
   "metadata": {},
   "outputs": [
    {
     "name": "stdout",
     "output_type": "stream",
     "text": [
      "Enter your number :3\n",
      "3 ^ 3 =  27\n"
     ]
    }
   ],
   "source": [
    "k = int(input('Enter your number :'))\n",
    "\n",
    "def power(n):\n",
    "    x=3\n",
    "    if n==0:\n",
    "        return 1\n",
    "    else:\n",
    "        return x*power(n-1)\n",
    "print('3 ^',k,'= ',power(k))\n"
   ]
  },
  {
   "cell_type": "markdown",
   "id": "b1f7b1c8",
   "metadata": {},
   "source": [
    "JOB 3"
   ]
  },
  {
   "cell_type": "code",
   "execution_count": 205,
   "id": "cff36922",
   "metadata": {},
   "outputs": [
    {
     "name": "stdout",
     "output_type": "stream",
     "text": [
      "Enter your number :8\n"
     ]
    },
    {
     "data": {
      "text/plain": [
       "array([['o', 'x', 'o', 'o', 'o', 'o', 'o', 'o'],\n",
       "       ['o', 'o', 'x', 'o', 'o', 'o', 'o', 'o'],\n",
       "       ['o', 'o', 'o', 'o', 'o', 'o', 'o', 'x'],\n",
       "       ['o', 'o', 'o', 'o', 'o', 'o', 'x', 'o'],\n",
       "       ['o', 'o', 'o', 'x', 'o', 'o', 'o', 'o'],\n",
       "       ['o', 'o', 'o', 'o', 'o', 'o', 'x', 'o'],\n",
       "       ['o', 'x', 'o', 'o', 'o', 'o', 'o', 'o'],\n",
       "       ['x', 'o', 'o', 'o', 'o', 'o', 'o', 'o']], dtype='<U1')"
      ]
     },
     "execution_count": 205,
     "metadata": {},
     "output_type": "execute_result"
    }
   ],
   "source": [
    "import numpy as np\n",
    "\n",
    "k = int(input('Enter your number :'))\n",
    "\n",
    "\n",
    "def dame(n):\n",
    "    plateau = np.zeros((n,n),'str')\n",
    "    plateau[:,:]='o'\n",
    "    l=[]\n",
    "    for i in range(8):\n",
    "        col = np.random.randint(0, 8)\n",
    "        if col not in l:\n",
    "            plateau[i][col] ='x'\n",
    "            l.append(col)\n",
    "        else:\n",
    "            col = np.random.randint(0, 8)\n",
    "            plateau[i][col] ='x'\n",
    "            l.append(col)            \n",
    "\n",
    "    return plateau\n",
    "        \n",
    "    \n",
    "\n",
    "dame(k)   \n",
    "    "
   ]
  },
  {
   "cell_type": "markdown",
   "id": "1bf341b8",
   "metadata": {},
   "source": [
    "JOB 8"
   ]
  },
  {
   "cell_type": "code",
   "execution_count": 207,
   "id": "c72ee33a",
   "metadata": {},
   "outputs": [
    {
     "data": {
      "image/png": "[encoded data removed]",
      "text/plain": [
       "<Figure size 640x480 with 1 Axes>"
      ]
     },
     "metadata": {},
     "output_type": "display_data"
    }
   ],
   "source": [
    "# Read and build mazes\n",
    "def replaceCharactersBy0s1s(line):\n",
    "    return [1 if i==\"#\" else 0 for i in line.replace('\\n', '')]\n",
    "\n",
    "def readMaze(file):\n",
    "    with open(file) as f:\n",
    "        maze = [replaceCharactersBy0s1s(line) for line in f]\n",
    "    return maze\n",
    "\n",
    "\n",
    "filename = \"maze.mz.txt\"\n",
    "maze =readMaze(filename)\n",
    "\n",
    "\n",
    "# Visualisation\n",
    "import matplotlib.pyplot as plt\n",
    "fig = plt.figure(frameon=False)\n",
    "plt.imshow(maze)\n",
    "plt.xticks([])\n",
    "plt.yticks([])\n",
    "\n",
    "plt.show()\n"
   ]
  },
  {
   "cell_type": "code",
   "execution_count": 210,
   "id": "a366b6c3",
   "metadata": {},
   "outputs": [],
   "source": [
    "import random\n",
    "\n",
    "class Coordinates:\n",
    "    def __init__(self, x, y):\n",
    "        self.x = x\n",
    "        self.y = y\n",
    "\n",
    "    def __str__(self):\n",
    "        return \"x:{} y:{}\".format(self.x, self.y)\n",
    "\n",
    "class Node:\n",
    "    def __init__(self, left=None, right=None, top=None, bot=None, coordinates=None):\n",
    "        self.left = left\n",
    "        self.right = right\n",
    "        self.top = top\n",
    "        self.bot = bot\n",
    "        self.coordinates = coordinates\n",
    "\n",
    "    def getNodes(self):\n",
    "        nodes = set()\n",
    "        for i in [self.left, self.right, self.top, self.bot]:\n",
    "            if i != None:\n",
    "                nodes.add(i)\n",
    "        return nodes\n",
    "\n",
    "    def getNodeRandomly(self):\n",
    "        return self.getNodes()[random.randint(0, 3)]\n",
    "\n",
    "class MazeGraph:\n",
    "    def __init__(self, start:Node, finish:Node):\n",
    "        self.start = start\n",
    "        self.finish = finish\n",
    "\n",
    "    def findExitDepthFirstSearch(self):\n",
    "        visitedNodes = set()\n",
    "        stack=[self.start,]\n",
    "        visitedNodes.add(self.start)\n",
    "        destination = self.finish\n",
    "\n",
    "        while True:\n",
    "            #print(stack[-1])\n",
    "            if stack[-1] is destination:\n",
    "                return stack\n",
    "\n",
    "            distance = len(stack)\n",
    "            for n in stack[-1].getNodes():\n",
    "                if n not in visitedNodes:\n",
    "                    stack.append(n)\n",
    "                    visitedNodes.add(n)\n",
    "                    break\n",
    "\n",
    "            if distance == len(stack):\n",
    "                stack.pop()\n",
    "\n",
    "def toMazeGraph(rawMaze):\n",
    "    xmax = len(rawMaze[0])-1\n",
    "    ymax = len(rawMaze)-1\n",
    "    for y in range(ymax+1):\n",
    "        for x in range(xmax+1):\n",
    "            if rawMaze[y][x] != None:\n",
    "                rawMaze[y][x].coordinates = Coordinates(x=x,y=y)\n",
    "                if x!=0 and rawMaze[y][x-1]!=None:\n",
    "                    rawMaze[y][x].left = rawMaze[y][x-1]\n",
    "\n",
    "                if x!=xmax and rawMaze[y][x+1]!=None:\n",
    "                    rawMaze[y][x].right = rawMaze[y][x+1]\n",
    "\n",
    "                if y!=ymax and rawMaze[y+1][x]!=None:\n",
    "                    rawMaze[y][x].top = rawMaze[y+1][x]\n",
    "\n",
    "                if y!=0 and rawMaze[y-1][x]!=None:\n",
    "                    rawMaze[y][x].bot = rawMaze[y-1][x]\n",
    "    return MazeGraph(start=rawMaze[0][0], finish=rawMaze[ymax][xmax])\n",
    "\n",
    "def replaceCharacters(line:list):\n",
    "    return [None if i==\"#\" else Node() for i in line.replace('\\n', '')]\n",
    "\n",
    "def readRawMaze(file):\n",
    "    with open(file) as f:\n",
    "        rawMaze = [replaceCharacters(line) for line in f]\n",
    "    return rawMaze\n",
    "\n",
    "def applyAlgorithm(algorithm, maze, xmax, ymax,):\n",
    "    return algorithm(maze, xmax, ymax)\n",
    "\n",
    "def buildMaze(lines, collumns, maze=-1, x=-1, y=-1):\n",
    "\n",
    "    maze = [[1]*collumns*2-1 for i in range(lines*2-1)]\n",
    "    for i in lines:\n",
    "        pass\n",
    "    maze.insert(0, [1]*collumns)\n",
    "    maze.append([1]*collumns)\n",
    "    for i in maze:\n",
    "        i.insert(0,1)\n",
    "        i.append(1)\n",
    "    applyAlgorithm(maze, xmax=collumns, ymax=lines)\n",
    "    maze[0][0] = maze[lines+1][collumns+1] = 0\n",
    "    maze[1][0] = maze[lines][collumns+1] = 0\n",
    "    return maze\n"
   ]
  },
  {
   "cell_type": "code",
   "execution_count": 211,
   "id": "3e228bae",
   "metadata": {},
   "outputs": [],
   "source": [
    "filename = \"maze.mz.txt\"\n",
    "rawMaze = readRawMaze(filename)\n",
    "mazeGraph = toMazeGraph(rawMaze)\n",
    "solutionNodes = mazeGraph.findExitDepthFirstSearch()\n",
    "solutionCoordinates = [[node.coordinates.x, node.coordinates.y] for node in solutionNodes]\n",
    "#print(solutionCoordinates)\n"
   ]
  },
  {
   "cell_type": "code",
   "execution_count": 212,
   "id": "4819df29",
   "metadata": {},
   "outputs": [
    {
     "data": {
      "image/png": "[encoded data removed]",
      "text/plain": [
       "<Figure size 640x480 with 1 Axes>"
      ]
     },
     "metadata": {},
     "output_type": "display_data"
    }
   ],
   "source": [
    "import numpy as np\n",
    "x = 0\n",
    "y = 0\n",
    "for i in range(1, len(solutionCoordinates)): \n",
    "  x = np.append(x, solutionCoordinates[i][0])\n",
    "  y = np.append(y, solutionCoordinates[i][1])\n",
    "    \n",
    "# Visualisation\n",
    "import matplotlib.pyplot as plt\n",
    "\n",
    "plt.figure()\n",
    "plt.plot((x), (y), color=\"red\", linewidth=3)\n",
    "plt.imshow(maze)\n",
    "plt.xticks([])\n",
    "plt.yticks([])\n",
    "plt.show()"
   ]
  },
  {
   "cell_type": "markdown",
   "id": "ee9d8096",
   "metadata": {},
   "source": [
    "JOB 15"
   ]
  },
  {
   "cell_type": "code",
   "execution_count": 222,
   "id": "ed26ff84",
   "metadata": {},
   "outputs": [
    {
     "name": "stdout",
     "output_type": "stream",
     "text": [
      "Fourniez premier chaine de caractères :hghf2\n",
      "Fourniez premier chaine de caractères :hjbh\n"
     ]
    }
   ],
   "source": [
    "char_1 = input('Fourniez premier chaine de caractères :')\n",
    "char_1=char_1.lower()\n",
    "char_2 = input('Fourniez premier chaine de caractères :')\n",
    "char_2=char_2.lower()\n",
    "\n",
    "\n",
    "\n",
    "    "
   ]
  },
  {
   "cell_type": "code",
   "execution_count": 234,
   "id": "4506fa38",
   "metadata": {},
   "outputs": [],
   "source": [
    "def compare():\n",
    "    if char_1 == char_2:\n",
    "        print(0) \n",
    "\n",
    "    for i in range(len(char_1)):\n",
    "        l_1=ord(char_1[i])-ord('a')\n",
    "\n"
   ]
  },
  {
   "cell_type": "code",
   "execution_count": null,
   "id": "a431415f",
   "metadata": {},
   "outputs": [],
   "source": []
  }
 ],
 "metadata": {
  "kernelspec": {
   "display_name": "Python 3 (ipykernel)",
   "language": "python",
   "name": "python3"
  },
  "language_info": {
   "codemirror_mode": {
    "name": "ipython",
    "version": 3
   },
   "file_extension": ".py",
   "mimetype": "text/x-python",
   "name": "python",
   "nbconvert_exporter": "python",
   "pygments_lexer": "ipython3",
   "version": "3.9.12"
  }
 },
 "nbformat": 4,
 "nbformat_minor": 5
}
