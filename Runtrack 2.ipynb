{
 "cells": [
  {
   "cell_type": "markdown",
   "metadata": {},
   "source": [
    "JOB 0"
   ]
  },
  {
   "cell_type": "code",
   "execution_count": 9,
   "metadata": {},
   "outputs": [
    {
     "name": "stdout",
     "output_type": "stream",
     "text": [
      "Mon prénom est  Shirin\n",
      "Mon nom est  BASHIRIAMID\n"
     ]
    }
   ],
   "source": [
    "class Personne:\n",
    "    prénom = \"Shirin\"\n",
    "    nom = \"BASHIRIAMID\"\n",
    "    def Sepresenter(x):\n",
    "        print(\"Mon prénom est \",x.prénom)\n",
    "        print(\"Mon nom est \",x.nom)\n",
    "\n",
    "y = Personne()\n",
    "y.Sepresenter()"
   ]
  },
  {
   "cell_type": "code",
   "execution_count": 60,
   "metadata": {},
   "outputs": [
    {
     "name": "stdout",
     "output_type": "stream",
     "text": [
      "<bound method Personne.get_nom of <__main__.Personne object at 0x0000023EF45E3F10>>\n",
      "Mon prénom est  shirin\n",
      "Mon nom est  Amid\n",
      "('shirin', 'Amid')\n",
      "('kadi', 'ghahri')\n",
      "Mon prénom est  kadi\n",
      "Mon nom est  ghahri\n",
      "Mon prénom est  Shahin\n",
      "Mon nom est  Rezaei\n",
      "Prénom   Shahin\n",
      "Nom      Rezaei\n"
     ]
    }
   ],
   "source": [
    "class Personne(object):\n",
    "   \n",
    "    \n",
    "    def __init__(self,prenom,nom):\n",
    "        self.prenom=prenom\n",
    "        self.nom=nom\n",
    "        \n",
    "    def Sepresenter(self):\n",
    "        print(\"Mon prénom est \",self.prenom)\n",
    "        print(\"Mon nom est \",self.nom)\n",
    "        \n",
    "        \n",
    "    def get_nom(self):\n",
    "        return self.prenom , self.nom\n",
    "    \n",
    "        \n",
    "        \n",
    "    def set_nom(self,prenom,nom):\n",
    "        self.prenom=prenom\n",
    "        self.nom =nom\n",
    "        \n",
    "        \n",
    "    \n",
    "    \n",
    "    \n",
    "        \n",
    "\n",
    "\n",
    "\n",
    "p1=Personne(\"shirin\",\"Amid\")\n",
    "print(p1.get_nom)\n",
    "p1.Sepresenter()\n",
    "\n",
    "print(p1.get_nom())\n",
    "p1.set_nom(\"kadi\",\"ghahri\")\n",
    "print(p1.get_nom())\n",
    "p1.Sepresenter()\n",
    "\n",
    "#print(\"Prénom  \",p1.prenom)\n",
    "#print(\"Nom     \",p1.nom)\n",
    "\n",
    "\n",
    "\n",
    "p2=Personne(\"Shahin\",\"Rezaei\")\n",
    "p2.Sepresenter()\n",
    "print(\"Prénom  \",p2.prenom)\n",
    "print(\"Nom     \",p2.nom)\n",
    "\n",
    "\n",
    "        "
   ]
  },
  {
   "cell_type": "markdown",
   "metadata": {},
   "source": [
    "JOB 1"
   ]
  },
  {
   "cell_type": "code",
   "execution_count": 19,
   "metadata": {},
   "outputs": [
    {
     "name": "stdout",
     "output_type": "stream",
     "text": [
      "The writer of  ghg1\n"
     ]
    }
   ],
   "source": [
    "class Personne(object):\n",
    "   \n",
    "    \n",
    "    def __init__(self,prenom,nom):\n",
    "        self.prenom=prenom\n",
    "        self.nom=nom\n",
    "        \n",
    "    def getNom(self):\n",
    "        return self.prenom , self.nom\n",
    "        \n",
    "        \n",
    "class Auteur(Personne):\n",
    "    \n",
    "    def __init__(self,prenom,nom,titre):\n",
    "        oeuvre = []\n",
    "        Personne.__init__(self,prenom,nom)\n",
    "        self.titre = titre\n",
    "    \n",
    "    \n",
    "    \n",
    "    def listeroeuvre(self):\n",
    "        \n",
    "        print(oeuvre)\n",
    "    \n",
    "    \n",
    "    def ecrireunlivre(self):\n",
    "        self.titre = titre\n",
    "        oeuvre.append(titre)\n",
    "        \n",
    "            \n",
    "    def getBook(self):\n",
    "        \n",
    "        return self.titre \n",
    "        \n",
    "    \n",
    "    \n",
    "        \n",
    "class Livre(object):\n",
    "    \n",
    "    def __init__(self,prenom,nom,titre):\n",
    "        self.ref = Auteur(prenom,nom,titre)\n",
    "        \n",
    "        \n",
    "        \n",
    "        \n",
    "        \n",
    "        \n",
    "obj1 = Livre(\"Antoine\",\"Exupery\",\"ghg\")\n",
    "obj2 = Livre(\"Antoine1\",\"Exupery1\",\"ghg1\")\n",
    "\n",
    "\n",
    "\n",
    "print(\"The writer of \",obj2.ref.getBook())\n",
    "\n"
   ]
  },
  {
   "cell_type": "markdown",
   "metadata": {},
   "source": [
    "JOB 2.718"
   ]
  },
  {
   "cell_type": "code",
   "execution_count": 5,
   "metadata": {},
   "outputs": [],
   "source": [
    "class Personne(object):\n",
    "   \n",
    "    def __init__(self,prenom,nom):\n",
    "        self.prenom=prenom\n",
    "        self.nom=nom\n",
    "    \n",
    "    def getPrenom(self):\n",
    "        return self.prenom\n",
    "    \n",
    "    def getNom(self):\n",
    "        return self.nom\n",
    "\n",
    "    \n",
    "class Client(Personne):\n",
    "    \n",
    "    def __init__(self,nom,prenom):\n",
    "        Personne.__init__(self,prenom,nom)\n",
    "        print(self)\n",
    "\n",
    "    def Inventaire(self, collection):\n",
    "        self.collection = louer()\n",
    "        print(collection)\n",
    "\n",
    "    \n",
    "class Biblioteque(object):\n",
    "    \n",
    "    def __init__(self, auteur,catalogue):\n",
    "        catalogue={}\n",
    "        listoeuvre=[]\n",
    "        \n",
    "        \n",
    "     \n",
    "    def listeroeuvre(self):\n",
    "        self.oeuvre=oeuvre\n",
    "        listoeuvre.append(oeuvre)        \n",
    "         \n",
    "        \n",
    "        \n",
    "    def acheterLivre(self,auteur,livre, quantite):\n",
    "        self.quantite=quantite\n",
    "        self.auteur=auteur\n",
    "        self.livre=livre\n",
    "        if livre in listoeuvre:\n",
    "            catalogue.append(livre)\n",
    "            key[livre]=quantite\n",
    "            \n",
    "            \n",
    "            \n",
    "    def Inventaire(self):\n",
    "        print(catalogue)\n",
    "        \n",
    "       \n",
    "    def louer(self,prenom,nom,book):\n",
    "        Client.__init__(self,prenom,nom)\n",
    "        self.book = book\n",
    "        collection = []\n",
    "        if book in catalogue:\n",
    "            collection.append(book)\n",
    "            key[livre]=key[livre]-1\n",
    "        return collection\n",
    "            \n",
    "            \n",
    "    def rendreLivres(self,prenom,nom,book):\n",
    "        Client.__init__(self,prenom,nom)\n",
    "        self.book = book\n",
    "        if book in catalogue:\n",
    "            key[livre]=key[livre]+1\n",
    "        else:\n",
    "            catalogue.append(book)\n",
    "            key[book]=1\n",
    "        "
   ]
  },
  {
   "cell_type": "code",
   "execution_count": 8,
   "metadata": {},
   "outputs": [],
   "source": [
    "aut1=Biblioteque('Charles',{'book1':1 , 'book2':2})\n",
    "oeuvre=['A','B','C']\n",
    "# listeroeuvre(oeuvre)\n",
    "# acheterLivre('Charles','book3',1)\n",
    "\n"
   ]
  },
  {
   "cell_type": "markdown",
   "metadata": {},
   "source": [
    "JOB 07.389"
   ]
  },
  {
   "cell_type": "code",
   "execution_count": 337,
   "metadata": {},
   "outputs": [],
   "source": [
    "import numpy as np\n",
    "import random\n",
    "\n",
    "class Board(object):\n",
    "    \n",
    "    \n",
    "    def __init__(self,i,j):\n",
    "        self.i = i\n",
    "        self.j = j\n",
    "        self.plateau = np.zeros((i,j),str)\n",
    "#         self.color = 'R'\n",
    "        \n",
    "    def getrow(self):\n",
    "        return self.i\n",
    "    \n",
    "    def getcol(self):\n",
    "        return self.j\n",
    "\n",
    "    \n",
    "    def setPlay(self, color):\n",
    "        for joueur in ('J','R'):\n",
    "            self.color = joueur        \n",
    "        \n",
    "    def Game(self):\n",
    "        list = range(self.j)\n",
    "        num_ran = random.choice(list)\n",
    "        col_sel = self.plateau[:, num_ran]\n",
    "        index = [item for item,x in enumerate(col_sel) if x=='']\n",
    "        self.plateau[index[-1], num_ran] = self.color\n",
    "                \n",
    "        return plateau\n",
    "        \n",
    "        \n",
    "\n",
    "       \n",
    "            \n",
    "        \n",
    " \n",
    "  "
   ]
  },
  {
   "cell_type": "code",
   "execution_count": 336,
   "metadata": {},
   "outputs": [
    {
     "data": {
      "text/plain": [
       "array([['', '', '', '', '', ''],\n",
       "       ['', '', '', '', '', ''],\n",
       "       ['', '', '', '', '', ''],\n",
       "       ['', '', '', '', '', ''],\n",
       "       ['', '', '', '', '', ''],\n",
       "       ['', '', '', '', 'J', '']], dtype='<U1')"
      ]
     },
     "execution_count": 336,
     "metadata": {},
     "output_type": "execute_result"
    }
   ],
   "source": [
    "game=Board(6,6)\n",
    "game.setPlay('J')\n",
    "game.Game()\n",
    "game.plateau"
   ]
  },
  {
   "cell_type": "code",
   "execution_count": null,
   "metadata": {},
   "outputs": [],
   "source": []
  }
 ],
 "metadata": {
  "kernelspec": {
   "display_name": "Python 3 (ipykernel)",
   "language": "python",
   "name": "python3"
  },
  "language_info": {
   "codemirror_mode": {
    "name": "ipython",
    "version": 3
   },
   "file_extension": ".py",
   "mimetype": "text/x-python",
   "name": "python",
   "nbconvert_exporter": "python",
   "pygments_lexer": "ipython3",
   "version": "3.9.12"
  }
 },
 "nbformat": 4,
 "nbformat_minor": 4
}
