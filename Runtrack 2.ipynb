{
 "cells": [
  {
   "cell_type": "markdown",
   "metadata": {},
   "source": [
    "JOB 0"
   ]
  },
  {
   "cell_type": "code",
   "execution_count": 9,
   "metadata": {},
   "outputs": [
    {
     "name": "stdout",
     "output_type": "stream",
     "text": [
      "Mon prénom est  Shirin\n",
      "Mon nom est  BASHIRIAMID\n"
     ]
    }
   ],
   "source": [
    "class Personne:\n",
    "    prénom = \"Shirin\"\n",
    "    nom = \"BASHIRIAMID\"\n",
    "    def Sepresenter(x):\n",
    "        print(\"Mon prénom est \",x.prénom)\n",
    "        print(\"Mon nom est \",x.nom)\n",
    "\n",
    "y = Personne()\n",
    "y.Sepresenter()"
   ]
  },
  {
   "cell_type": "code",
   "execution_count": 60,
   "metadata": {},
   "outputs": [
    {
     "name": "stdout",
     "output_type": "stream",
     "text": [
      "<bound method Personne.get_nom of <__main__.Personne object at 0x0000023EF45E3F10>>\n",
      "Mon prénom est  shirin\n",
      "Mon nom est  Amid\n",
      "('shirin', 'Amid')\n",
      "('kadi', 'ghahri')\n",
      "Mon prénom est  kadi\n",
      "Mon nom est  ghahri\n",
      "Mon prénom est  Shahin\n",
      "Mon nom est  Rezaei\n",
      "Prénom   Shahin\n",
      "Nom      Rezaei\n"
     ]
    }
   ],
   "source": [
    "class Personne(object):\n",
    "   \n",
    "    \n",
    "    def __init__(self,prenom,nom):\n",
    "        self.prenom=prenom\n",
    "        self.nom=nom\n",
    "        \n",
    "    def Sepresenter(self):\n",
    "        print(\"Mon prénom est \",self.prenom)\n",
    "        print(\"Mon nom est \",self.nom)\n",
    "        \n",
    "        \n",
    "    def get_nom(self):\n",
    "        return self.prenom , self.nom\n",
    "    \n",
    "        \n",
    "        \n",
    "    def set_nom(self,prenom,nom):\n",
    "        self.prenom=prenom\n",
    "        self.nom =nom\n",
    "        \n",
    "        \n",
    "    \n",
    "    \n",
    "    \n",
    "        \n",
    "\n",
    "\n",
    "\n",
    "p1=Personne(\"shirin\",\"Amid\")\n",
    "print(p1.get_nom)\n",
    "p1.Sepresenter()\n",
    "\n",
    "print(p1.get_nom())\n",
    "p1.set_nom(\"kadi\",\"ghahri\")\n",
    "print(p1.get_nom())\n",
    "p1.Sepresenter()\n",
    "\n",
    "#print(\"Prénom  \",p1.prenom)\n",
    "#print(\"Nom     \",p1.nom)\n",
    "\n",
    "\n",
    "\n",
    "p2=Personne(\"Shahin\",\"Rezaei\")\n",
    "p2.Sepresenter()\n",
    "print(\"Prénom  \",p2.prenom)\n",
    "print(\"Nom     \",p2.nom)\n",
    "\n",
    "\n",
    "        "
   ]
  },
  {
   "cell_type": "markdown",
   "metadata": {},
   "source": [
    "JOB 1"
   ]
  },
  {
   "cell_type": "code",
   "execution_count": 19,
   "metadata": {},
   "outputs": [
    {
     "name": "stdout",
     "output_type": "stream",
     "text": [
      "The writer of  ghg1\n"
     ]
    }
   ],
   "source": [
    "class Personne(object):\n",
    "   \n",
    "    \n",
    "    def __init__(self,prenom,nom):\n",
    "        self.prenom=prenom\n",
    "        self.nom=nom\n",
    "        \n",
    "    def getNom(self):\n",
    "        return self.prenom , self.nom\n",
    "        \n",
    "        \n",
    "class Auteur(Personne):\n",
    "    \n",
    "    def __init__(self,prenom,nom,titre):\n",
    "        oeuvre = []\n",
    "        Personne.__init__(self,prenom,nom)\n",
    "        self.titre = titre\n",
    "    \n",
    "    \n",
    "    \n",
    "    def listeroeuvre(self):\n",
    "        \n",
    "        print(oeuvre)\n",
    "    \n",
    "    \n",
    "    def ecrireunlivre(self):\n",
    "        self.titre = titre\n",
    "        oeuvre.append(titre)\n",
    "        \n",
    "            \n",
    "    def getBook(self):\n",
    "        \n",
    "        return self.titre \n",
    "        \n",
    "    \n",
    "    \n",
    "        \n",
    "class Livre(object):\n",
    "    \n",
    "    def __init__(self,prenom,nom,titre):\n",
    "        self.ref = Auteur(prenom,nom,titre)\n",
    "        \n",
    "        \n",
    "        \n",
    "        \n",
    "        \n",
    "        \n",
    "obj1 = Livre(\"Antoine\",\"Exupery\",\"ghg\")\n",
    "obj2 = Livre(\"Antoine1\",\"Exupery1\",\"ghg1\")\n",
    "\n",
    "\n",
    "\n",
    "print(\"The writer of \",obj2.ref.getBook())\n",
    "\n"
   ]
  },
  {
   "cell_type": "markdown",
   "metadata": {},
   "source": [
    "JOB 2.718"
   ]
  },
  {
   "cell_type": "code",
   "execution_count": 30,
   "metadata": {},
   "outputs": [],
   "source": [
    "class Personne(object):\n",
    "   \n",
    "    def __init__(self,prenom,nom):\n",
    "        self.prenom=prenom\n",
    "        self.nom=nom\n",
    "    \n",
    "    def getPrenom(self):\n",
    "        return self.prenom\n",
    "    \n",
    "    def getNom(self):\n",
    "        return self.nom\n",
    "\n",
    "    \n",
    "class Client(Personne):\n",
    "    \n",
    "    def __init__(self):\n",
    "        print(self)\n",
    "        \n",
    "    \n",
    "    \n",
    "    \n",
    "class Biblioteque(object):\n",
    "    \n",
    "    def __init__(self, auteur, livre, quantite,catalogue):\n",
    "        \n",
    "        self.quantite=quantite\n",
    "        catalogue={}\n",
    "        \n",
    "        \n",
    "    def acheterLivre(self,auteur,livre, quantite):\n",
    "        self.quantite=quantite\n",
    "        self.auteur=auteur\n",
    "        self.livre=livre\n",
    "        \n",
    "    def getQuantite(self):\n",
    "        return self.quantite\n",
    "        \n",
    "            \n",
    "    def Inventaire(self):\n",
    "        for i in oeuvre:\n",
    "            if oeuvre[i]==livre:\n",
    "                catalogue.append(livre)\n",
    "                catalogue.append(quantite)\n",
    "        print(catalogue)\n",
    "       \n",
    "    def louer(Client):\n",
    "        \n",
    "        \n",
    "    \n",
    "    \n",
    "        \n",
    "        \n",
    "        \n",
    "        \n",
    "        \n",
    "        \n",
    "    \n",
    "    "
   ]
  },
  {
   "cell_type": "markdown",
   "metadata": {},
   "source": [
    "JOB 07.389"
   ]
  },
  {
   "cell_type": "code",
   "execution_count": 337,
   "metadata": {},
   "outputs": [],
   "source": [
    "import numpy as np\n",
    "import random\n",
    "\n",
    "class Board(object):\n",
    "    \n",
    "    \n",
    "    def __init__(self,i,j):\n",
    "        self.i = i\n",
    "        self.j = j\n",
    "        self.plateau = np.zeros((i,j),str)\n",
    "#         self.color = 'R'\n",
    "        \n",
    "    def getrow(self):\n",
    "        return self.i\n",
    "    \n",
    "    def getcol(self):\n",
    "        return self.j\n",
    "\n",
    "    \n",
    "    def setPlay(self, color):\n",
    "        for joueur in ('J','R'):\n",
    "            self.color = joueur        \n",
    "        \n",
    "    def Game(self):\n",
    "        list = range(self.j)\n",
    "        num_ran = random.choice(list)\n",
    "        col_sel = self.plateau[:, num_ran]\n",
    "        index = [item for item,x in enumerate(col_sel) if x=='']\n",
    "        self.plateau[index[-1], num_ran] = self.color\n",
    "                \n",
    "        return plateau\n",
    "        \n",
    "        \n",
    "\n",
    "       \n",
    "            \n",
    "        \n",
    " \n",
    "\n",
    "#     def Print(self):\n",
    "#         for row in self.plateau :\n",
    "#             print(row)\n",
    "                    \n",
    "            \n",
    "        \n",
    "#         if n > self.j:\n",
    "#             print(\"choisissez un nombre <= \",self.j)    \n",
    "    \n",
    " #       for x in range(0,self.i,-1):\n",
    "\n",
    "#             if self.plateau[self.i][self.n] == 0 :\n",
    "\n",
    "#                 self.plateau[self.i][self.n] = self.color    "
   ]
  },
  {
   "cell_type": "code",
   "execution_count": 336,
   "metadata": {},
   "outputs": [
    {
     "data": {
      "text/plain": [
       "array([['', '', '', '', '', ''],\n",
       "       ['', '', '', '', '', ''],\n",
       "       ['', '', '', '', '', ''],\n",
       "       ['', '', '', '', '', ''],\n",
       "       ['', '', '', '', '', ''],\n",
       "       ['', '', '', '', 'J', '']], dtype='<U1')"
      ]
     },
     "execution_count": 336,
     "metadata": {},
     "output_type": "execute_result"
    }
   ],
   "source": [
    "game=Board(6,6)\n",
    "game.setPlay('J')\n",
    "game.Game()\n",
    "game.plateau"
   ]
  },
  {
   "cell_type": "code",
   "execution_count": 259,
   "metadata": {},
   "outputs": [
    {
     "name": "stdout",
     "output_type": "stream",
     "text": [
      "[0, 2] 1\n"
     ]
    },
    {
     "data": {
      "text/plain": [
       "(2,\n",
       " array([['', '', '4'],\n",
       "        ['', '4', ''],\n",
       "        ['4', 'R', '']], dtype='<U1'))"
      ]
     },
     "execution_count": 259,
     "metadata": {},
     "output_type": "execute_result"
    }
   ],
   "source": [
    "# import random\n",
    "# j=3\n",
    "# color = 'R'\n",
    "# plateau=np.zeros((3,3),str)\n",
    "# list = range(j)\n",
    "# num_ran = random.choice(list)\n",
    "\n",
    "# plateau[1,1]=4\n",
    "# plateau[0,2]=4\n",
    "# plateau[2,0]=4\n",
    "# col_sel = plateau[:, num_ran]\n",
    "# index = [item for item,x in enumerate(col_sel) if x=='']\n",
    "# plateau[index[-1],num_ran] = color\n",
    "# print(index,num_ran) , plateau\n",
    "# index[-1] , plateau\n",
    "# # col_sel\n"
   ]
  },
  {
   "cell_type": "code",
   "execution_count": 38,
   "metadata": {},
   "outputs": [],
   "source": [
    "#                 z = 0\n",
    "#                 for m in range(i-3): #i-4+1\n",
    "    \n",
    "#                         while(z < 4):\n",
    "#                         if (plateau[m + z] != plat[j]):\n",
    "#                             break\n",
    "#                         z += 1\n",
    " \n",
    "#                         if (z == 4):\n",
    "#                             print(\"Pattern found at index \", i)"
   ]
  },
  {
   "cell_type": "code",
   "execution_count": 167,
   "metadata": {},
   "outputs": [
    {
     "ename": "TypeError",
     "evalue": "Cannot interpret '3' as a data type",
     "output_type": "error",
     "traceback": [
      "\u001b[1;31m---------------------------------------------------------------------------\u001b[0m",
      "\u001b[1;31mTypeError\u001b[0m                                 Traceback (most recent call last)",
      "Cell \u001b[1;32mIn [167], line 1\u001b[0m\n\u001b[1;32m----> 1\u001b[0m plateau\u001b[38;5;241m=\u001b[39m\u001b[43mnp\u001b[49m\u001b[38;5;241;43m.\u001b[39;49m\u001b[43mempty\u001b[49m\u001b[43m(\u001b[49m\u001b[38;5;241;43m3\u001b[39;49m\u001b[43m,\u001b[49m\u001b[38;5;241;43m3\u001b[39;49m\u001b[43m)\u001b[49m\n\u001b[0;32m      2\u001b[0m plateau\n",
      "\u001b[1;31mTypeError\u001b[0m: Cannot interpret '3' as a data type"
     ]
    }
   ],
   "source": [
    "plateau=np.empty(3,3)\n",
    "plateau"
   ]
  },
  {
   "cell_type": "code",
   "execution_count": null,
   "metadata": {},
   "outputs": [],
   "source": []
  }
 ],
 "metadata": {
  "kernelspec": {
   "display_name": "Python 3 (ipykernel)",
   "language": "python",
   "name": "python3"
  },
  "language_info": {
   "codemirror_mode": {
    "name": "ipython",
    "version": 3
   },
   "file_extension": ".py",
   "mimetype": "text/x-python",
   "name": "python",
   "nbconvert_exporter": "python",
   "pygments_lexer": "ipython3",
   "version": "3.9.12"
  }
 },
 "nbformat": 4,
 "nbformat_minor": 4
}
