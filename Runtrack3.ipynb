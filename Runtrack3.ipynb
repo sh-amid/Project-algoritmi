{
 "cells": [
  {
   "cell_type": "markdown",
   "id": "14c57d08",
   "metadata": {},
   "source": [
    "JOB 0"
   ]
  },
  {
   "cell_type": "code",
   "execution_count": 31,
   "id": "639ba5d4",
   "metadata": {},
   "outputs": [
    {
     "name": "stdout",
     "output_type": "stream",
     "text": [
      "Entre une chaine de character :may the force be with you\n"
     ]
    }
   ],
   "source": [
    "chaine = input('Entre une chaine de character :')\n",
    "with open(\"Output.txt\", \"w\") as text_file:\n",
    "    print(chaine, file=text_file)"
   ]
  },
  {
   "cell_type": "markdown",
   "id": "eb6b3e7f",
   "metadata": {},
   "source": [
    "JOB 1_0"
   ]
  },
  {
   "cell_type": "code",
   "execution_count": 32,
   "id": "b2a7671c",
   "metadata": {
    "scrolled": true
   },
   "outputs": [
    {
     "name": "stdout",
     "output_type": "stream",
     "text": [
      "may the force be with you\n",
      "\n"
     ]
    }
   ],
   "source": [
    "with open(\"output.txt\",\"r\") as f:\n",
    "    content=f.read()\n",
    "    print(content)\n",
    "          "
   ]
  },
  {
   "cell_type": "markdown",
   "id": "83e5e583",
   "metadata": {},
   "source": [
    "JOB 1-1"
   ]
  },
  {
   "cell_type": "markdown",
   "id": "29ea3b90",
   "metadata": {},
   "source": [
    "pip install beautifulsoup4\n",
    "pip install lxml\n",
    "pip install python-whois"
   ]
  },
  {
   "cell_type": "code",
   "execution_count": 116,
   "id": "824ae8bb",
   "metadata": {
    "scrolled": false
   },
   "outputs": [],
   "source": [
    "with open(\"domains.xml\",\"r\") as f:\n",
    "    data = f.read()\n"
   ]
  },
  {
   "cell_type": "code",
   "execution_count": 8,
   "id": "f7896078",
   "metadata": {},
   "outputs": [],
   "source": [
    "import re\n",
    "from collections import Counter\n",
    "import pandas as pd\n",
    "\n",
    "with open(\"domains.xml\",\"r\") as file:\n",
    "    domain=[]\n",
    "    for line in file:\n",
    "        word = re.search(r\"\\.([a-z]+)<\", line)\n",
    "        if word is not None:\n",
    "            domain.append(word.group(0))\n",
    "count = pd.Series(domain).value_counts()\n",
    "count\n"
   ]
  },
  {
   "cell_type": "markdown",
   "id": "1125b356",
   "metadata": {},
   "source": [
    "JOB 1-2"
   ]
  },
  {
   "cell_type": "code",
   "execution_count": 57,
   "id": "34116dd1",
   "metadata": {},
   "outputs": [
    {
     "data": {
      "text/plain": [
       "3877"
      ]
     },
     "execution_count": 57,
     "metadata": {},
     "output_type": "execute_result"
    }
   ],
   "source": [
    "car='[#$%^&*@()-+=<>¤~/\\|]'\n",
    "c=0\n",
    "for i in range(len(data_file)):\n",
    "    if data_file[i] in car:\n",
    "        c+=1\n",
    "\n",
    "        \n",
    "c        "
   ]
  },
  {
   "cell_type": "code",
   "execution_count": 56,
   "id": "dbbed947",
   "metadata": {},
   "outputs": [
    {
     "data": {
      "text/plain": [
       "1173361"
      ]
     },
     "execution_count": 56,
     "metadata": {},
     "output_type": "execute_result"
    }
   ],
   "source": [
    "import re\n",
    "with open(\"data.txt\",\"r\",encoding='utf-8') as file:\n",
    "    data_file = file.read()\n",
    "len(data_file.split())"
   ]
  },
  {
   "cell_type": "code",
   "execution_count": 106,
   "id": "e0a20175",
   "metadata": {},
   "outputs": [
    {
     "data": {
      "text/plain": [
       "3857"
      ]
     },
     "execution_count": 106,
     "metadata": {},
     "output_type": "execute_result"
    }
   ],
   "source": [
    "import re\n",
    "with open(\"data.txt\",\"r\",encoding='utf-8') as file:\n",
    "    data_file = file.read()\n",
    "s=\"i shou@d go to th~ nether jhf^f\"\n",
    "car='[#$%^&*@()-+=<>¤~/\\|]'\n",
    "s1=data_file.split()\n",
    "g=[]\n",
    "for i in (car):\n",
    "    for j in (s1):\n",
    "        if j.__contains__(i):\n",
    "            g.append(j)\n",
    "        \n",
    "   \n",
    "len(g) "
   ]
  },
  {
   "cell_type": "markdown",
   "id": "0c64e4f9",
   "metadata": {},
   "source": [
    "JOB 02"
   ]
  },
  {
   "cell_type": "code",
   "execution_count": 111,
   "id": "96993e57",
   "metadata": {},
   "outputs": [
    {
     "name": "stdout",
     "output_type": "stream",
     "text": [
      "Renseignez-vous un nombre entier :19\n",
      "Il y a  58 de mots de la taille  19\n"
     ]
    }
   ],
   "source": [
    "import re\n",
    "\n",
    "num = int(input('Renseignez-vous un nombre entier :'))\n",
    "with open(\"data.txt\",\"r\",encoding='utf-8') as file:\n",
    "    data_file = file.read()\n",
    "word = data_file.split()\n",
    "list=[]\n",
    "for i in range(len(word)):\n",
    "    if num == len(word[i]):\n",
    "        list.append(word[i])\n",
    "print('Il y a ',len(list) ,'de mots de la taille ',num)  \n"
   ]
  },
  {
   "cell_type": "markdown",
   "id": "2daa2c13",
   "metadata": {},
   "source": [
    "JOB 03"
   ]
  },
  {
   "cell_type": "code",
   "execution_count": 17,
   "id": "30c881f5",
   "metadata": {},
   "outputs": [
    {
     "data": {
      "image/png": "[encoded data removed]",
      "text/plain": [
       "<Figure size 640x480 with 1 Axes>"
      ]
     },
     "metadata": {},
     "output_type": "display_data"
    }
   ],
   "source": [
    "from collections import Counter\n",
    "from string import ascii_lowercase\n",
    "import numpy as np\n",
    "\n",
    "with open(\"data.txt\",\"r\",encoding='utf-8') as f:\n",
    "    chars = Counter(char for line in f for char in line.lower())\n",
    "\n",
    "chars = {char: chars[char] for char in ascii_lowercase}\n",
    "total = sum(chars.values())\n",
    "for key in chars:\n",
    "    chars[key]=chars[key]/total*100\n",
    "plt.bar(range(len(chars)), chars.values(), align='center')\n",
    "plt.xticks(range(len(chars)), chars.keys())\n",
    "plt.title('Le purcantage dapprition de chaque lettre' )\n",
    "plt.show()\n"
   ]
  },
  {
   "cell_type": "markdown",
   "id": "f7a65318",
   "metadata": {},
   "source": [
    "JOB 5"
   ]
  },
  {
   "cell_type": "code",
   "execution_count": 115,
   "id": "ae9a9579",
   "metadata": {},
   "outputs": [
    {
     "data": {
      "image/png": "[encoded data removed]",
      "text/plain": [
       "<Figure size 640x480 with 1 Axes>"
      ]
     },
     "metadata": {},
     "output_type": "display_data"
    }
   ],
   "source": [
    "with open(\"data.txt\",\"r\",encoding='utf-8') as file:\n",
    "    data_file = file.read()\n",
    "words = data_file.split()\n",
    "d={}\n",
    "for word in words:\n",
    "    key = len(word)\n",
    "    if key in d:\n",
    "        d[key] = d[key]+1\n",
    "    else:\n",
    "        d[key]=1\n",
    "total = len(words)  \n",
    "for key in d:\n",
    "    d[key]=d[key]/total*100\n",
    "plt.bar(range(len(d)), d.values(), align='center')\n",
    "plt.xticks(range(len(d)), d.keys())\n",
    "plt.title('Le purcantage dapprition de chaque taille de mot' )\n",
    "plt.show()"
   ]
  },
  {
   "cell_type": "markdown",
   "id": "e6cbaa00",
   "metadata": {},
   "source": [
    "JOB 8"
   ]
  },
  {
   "cell_type": "code",
   "execution_count": 28,
   "id": "8ec159e4",
   "metadata": {
    "scrolled": true
   },
   "outputs": [
    {
     "data": {
      "image/png": "[encoded data removed]",
      "text/plain": [
       "<Figure size 640x480 with 1 Axes>"
      ]
     },
     "metadata": {},
     "output_type": "display_data"
    }
   ],
   "source": [
    "import matplotlib.pyplot as plt\n",
    "\n",
    "with open(\"data.txt\",\"r\",encoding='utf-8') as file:\n",
    "    data_file = file.read()\n",
    "words = data_file.split()\n",
    "dic={}\n",
    "for word in words:\n",
    "    for char in word:\n",
    "        if char in word[0] and char.isalnum():\n",
    "            key = char.lower()\n",
    "            if key in dic:\n",
    "                dic[key] = dic[key]+1\n",
    "            else:\n",
    "                dic[key] = 1\n",
    "total = sum(dic.values())  \n",
    "for key in dic:\n",
    "    dic[key]=dic[key]/total*100\n",
    "plt.bar(range(len(dic)), dic.values(), align='center')\n",
    "plt.xticks(range(len(dic)), dic.keys())\n",
    "plt.title('Le purcantage dapprition det' )\n",
    "plt.show()"
   ]
  },
  {
   "cell_type": "markdown",
   "id": "57e698a7",
   "metadata": {},
   "source": [
    "JOB 13"
   ]
  },
  {
   "cell_type": "code",
   "execution_count": 50,
   "id": "9259ea20",
   "metadata": {},
   "outputs": [
    {
     "data": {
      "text/plain": [
       "'r'"
      ]
     },
     "execution_count": 50,
     "metadata": {},
     "output_type": "execute_result"
    }
   ],
   "source": [
    "# with open(\"data.txt\",\"r\",encoding='utf-8') as file:\n",
    "#     data_file = file.read()\n",
    "data_file = 'I love you more than ever'\n",
    "words = data_file.split()\n",
    "dic={}\n",
    "for word in words:\n",
    "    for char in word:\n",
    "       for i in range(len(word)): \n",
    "            key = char\n",
    "            i = i+1\n",
    "            dic[key] = char\n",
    "#             if key in dic:\n",
    "#                 dic[key]=dic[key]+1\n",
    "                \n",
    "key            \n",
    "          "
   ]
  },
  {
   "cell_type": "code",
   "execution_count": null,
   "id": "b70d4394",
   "metadata": {},
   "outputs": [],
   "source": []
  }
 ],
 "metadata": {
  "kernelspec": {
   "display_name": "Python 3 (ipykernel)",
   "language": "python",
   "name": "python3"
  },
  "language_info": {
   "codemirror_mode": {
    "name": "ipython",
    "version": 3
   },
   "file_extension": ".py",
   "mimetype": "text/x-python",
   "name": "python",
   "nbconvert_exporter": "python",
   "pygments_lexer": "ipython3",
   "version": "3.9.12"
  }
 },
 "nbformat": 4,
 "nbformat_minor": 5
}
